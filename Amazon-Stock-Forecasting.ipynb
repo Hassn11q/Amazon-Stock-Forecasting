{
 "cells": [
  {
   "cell_type": "code",
   "execution_count": 1,
   "metadata": {},
   "outputs": [],
   "source": [
    "# Dependencies\n",
    "import pandas as pd \n",
    "import matplotlib.pyplot as plt \n",
    "import torch.nn as nn \n",
    "import torch.optim as optim \n",
    "import torch \n",
    "import numpy as np \n",
    "from sklearn.preprocessing import MinMaxScaler"
   ]
  },
  {
   "cell_type": "code",
   "execution_count": 2,
   "metadata": {},
   "outputs": [
    {
     "data": {
      "text/html": [
       "<div>\n",
       "<style scoped>\n",
       "    .dataframe tbody tr th:only-of-type {\n",
       "        vertical-align: middle;\n",
       "    }\n",
       "\n",
       "    .dataframe tbody tr th {\n",
       "        vertical-align: top;\n",
       "    }\n",
       "\n",
       "    .dataframe thead th {\n",
       "        text-align: right;\n",
       "    }\n",
       "</style>\n",
       "<table border=\"1\" class=\"dataframe\">\n",
       "  <thead>\n",
       "    <tr style=\"text-align: right;\">\n",
       "      <th></th>\n",
       "      <th>Date</th>\n",
       "      <th>Open</th>\n",
       "      <th>High</th>\n",
       "      <th>Low</th>\n",
       "      <th>Close</th>\n",
       "      <th>Adj Close</th>\n",
       "      <th>Volume</th>\n",
       "    </tr>\n",
       "  </thead>\n",
       "  <tbody>\n",
       "    <tr>\n",
       "      <th>0</th>\n",
       "      <td>1997-05-15</td>\n",
       "      <td>0.121875</td>\n",
       "      <td>0.125000</td>\n",
       "      <td>0.096354</td>\n",
       "      <td>0.097917</td>\n",
       "      <td>0.097917</td>\n",
       "      <td>1443120000</td>\n",
       "    </tr>\n",
       "    <tr>\n",
       "      <th>1</th>\n",
       "      <td>1997-05-16</td>\n",
       "      <td>0.098438</td>\n",
       "      <td>0.098958</td>\n",
       "      <td>0.085417</td>\n",
       "      <td>0.086458</td>\n",
       "      <td>0.086458</td>\n",
       "      <td>294000000</td>\n",
       "    </tr>\n",
       "    <tr>\n",
       "      <th>2</th>\n",
       "      <td>1997-05-19</td>\n",
       "      <td>0.088021</td>\n",
       "      <td>0.088542</td>\n",
       "      <td>0.081250</td>\n",
       "      <td>0.085417</td>\n",
       "      <td>0.085417</td>\n",
       "      <td>122136000</td>\n",
       "    </tr>\n",
       "    <tr>\n",
       "      <th>3</th>\n",
       "      <td>1997-05-20</td>\n",
       "      <td>0.086458</td>\n",
       "      <td>0.087500</td>\n",
       "      <td>0.081771</td>\n",
       "      <td>0.081771</td>\n",
       "      <td>0.081771</td>\n",
       "      <td>109344000</td>\n",
       "    </tr>\n",
       "    <tr>\n",
       "      <th>4</th>\n",
       "      <td>1997-05-21</td>\n",
       "      <td>0.081771</td>\n",
       "      <td>0.082292</td>\n",
       "      <td>0.068750</td>\n",
       "      <td>0.071354</td>\n",
       "      <td>0.071354</td>\n",
       "      <td>377064000</td>\n",
       "    </tr>\n",
       "  </tbody>\n",
       "</table>\n",
       "</div>"
      ],
      "text/plain": [
       "         Date      Open      High       Low     Close  Adj Close      Volume\n",
       "0  1997-05-15  0.121875  0.125000  0.096354  0.097917   0.097917  1443120000\n",
       "1  1997-05-16  0.098438  0.098958  0.085417  0.086458   0.086458   294000000\n",
       "2  1997-05-19  0.088021  0.088542  0.081250  0.085417   0.085417   122136000\n",
       "3  1997-05-20  0.086458  0.087500  0.081771  0.081771   0.081771   109344000\n",
       "4  1997-05-21  0.081771  0.082292  0.068750  0.071354   0.071354   377064000"
      ]
     },
     "execution_count": 2,
     "metadata": {},
     "output_type": "execute_result"
    }
   ],
   "source": [
    "# Data Preparation\n",
    "df = pd.read_csv(\"./AMZN.csv\")\n",
    "df.head()"
   ]
  },
  {
   "cell_type": "code",
   "execution_count": 15,
   "metadata": {},
   "outputs": [
    {
     "data": {
      "image/png": "[encoded data removed]",
      "text/plain": [
       "<Figure size 640x480 with 1 Axes>"
      ]
     },
     "metadata": {},
     "output_type": "display_data"
    }
   ],
   "source": [
    "# Data Exploration\n",
    "plt.plot(df[\"Close\"].values)\n",
    "plt.title(\"Amazon Close \")\n",
    "plt.show()"
   ]
  },
  {
   "cell_type": "code",
   "execution_count": 4,
   "metadata": {},
   "outputs": [],
   "source": [
    "# Define sliding window\n",
    "def sliding_window(data , seq_length):\n",
    "    x , y = [] , []\n",
    "    for i in range(len(data)-seq_length-1):\n",
    "        _x = data[i:(i+seq_length)]\n",
    "        _y = data[i+seq_length]\n",
    "        x.append(_x)\n",
    "        y.append(_y)\n",
    "    return np.array(x) , np.array(y) "
   ]
  },
  {
   "cell_type": "code",
   "execution_count": 5,
   "metadata": {},
   "outputs": [],
   "source": [
    "# Define MinMaxScaler\n",
    "scaler = MinMaxScaler()\n",
    "training_data = scaler.fit_transform(df[\"Close\"].values.reshape(-1,1))"
   ]
  },
  {
   "cell_type": "code",
   "execution_count": 6,
   "metadata": {},
   "outputs": [
    {
     "name": "stdout",
     "output_type": "stream",
     "text": [
      "(6508, 7, 1) (6508, 1)\n"
     ]
    }
   ],
   "source": [
    "seq_length = 7 \n",
    "x , y = sliding_window(training_data , seq_length)\n",
    "print(x.shape , y.shape)"
   ]
  },
  {
   "cell_type": "code",
   "execution_count": 7,
   "metadata": {},
   "outputs": [],
   "source": [
    "# Split data into train and test\n",
    "train_size = int(len(y)*0.9)\n",
    "test_size = len(y) - train_size"
   ]
  },
  {
   "cell_type": "code",
   "execution_count": 8,
   "metadata": {},
   "outputs": [],
   "source": [
    "# Convert data into torch tensor\n",
    "x_data = torch.tensor(x , dtype = torch.float32)\n",
    "y_data = torch.tensor(y , dtype = torch.float32)"
   ]
  },
  {
   "cell_type": "code",
   "execution_count": 9,
   "metadata": {},
   "outputs": [],
   "source": [
    "# Define train and test\n",
    "x_train = x_data[:train_size]\n",
    "y_train = y_data[:train_size]"
   ]
  },
  {
   "cell_type": "code",
   "execution_count": 10,
   "metadata": {},
   "outputs": [],
   "source": [
    "# Define train and test\n",
    "x_test = x_data[train_size:]\n",
    "y_test = y_data[train_size:]"
   ]
  },
  {
   "cell_type": "code",
   "execution_count": 11,
   "metadata": {},
   "outputs": [],
   "source": [
    "# Define LSTM Model\n",
    "class LSTM(nn.Module):\n",
    "    def __init__(self , num_classes ,input_size , hidden_size , num_layers ):\n",
    "        super(LSTM , self).__init__()\n",
    "        self.num_classes = num_classes \n",
    "        self.num_layers = num_layers\n",
    "        self.input_size = input_size \n",
    "        self.hidden_size = hidden_size\n",
    "        self.seq_length = seq_length\n",
    "\n",
    "        self.lstm = nn.LSTM(input_size = input_size , hidden_size = hidden_size , num_layers = num_layers , batch_first = True)\n",
    "\n",
    "        self.fc = nn.Linear(hidden_size , num_classes)\n",
    "    def forward(self , x):\n",
    "        h_0 = torch.zeros(self.num_classes, x.size(0) , self.hidden_size)\n",
    "        c_0 = torch.zeros(self.num_classes , x.size(0) , self.hidden_size)\n",
    "        lstm_out , (h_out , _) = self.lstm(x , (h_0 , c_0))\n",
    "        h_out = h_out.view(-1 , self.hidden_size)\n",
    "        out = self.fc(h_out)\n",
    "        return out \n",
    "    \n",
    "model = LSTM(input_size=1 , hidden_size=2 , num_layers=1 , num_classes=1)"
   ]
  },
  {
   "cell_type": "code",
   "execution_count": 12,
   "metadata": {},
   "outputs": [],
   "source": [
    "# Define Hyperparameters\n",
    "epochs = 2000\n",
    "lr = 0.01 \n",
    "criterion = nn.MSELoss()\n",
    "optimizer = torch.optim.Adam(model.parameters() , lr = lr)"
   ]
  },
  {
   "cell_type": "code",
   "execution_count": 13,
   "metadata": {},
   "outputs": [
    {
     "name": "stdout",
     "output_type": "stream",
     "text": [
      "Epoch: 0, loss: 0.02922\n",
      "Epoch: 100, loss: 0.00057\n",
      "Epoch: 200, loss: 0.00022\n",
      "Epoch: 300, loss: 0.00010\n",
      "Epoch: 400, loss: 0.00006\n",
      "Epoch: 500, loss: 0.00004\n",
      "Epoch: 600, loss: 0.00003\n",
      "Epoch: 700, loss: 0.00003\n",
      "Epoch: 800, loss: 0.00003\n",
      "Epoch: 900, loss: 0.00003\n",
      "Epoch: 1000, loss: 0.00002\n",
      "Epoch: 1100, loss: 0.00002\n",
      "Epoch: 1200, loss: 0.00002\n",
      "Epoch: 1300, loss: 0.00002\n",
      "Epoch: 1400, loss: 0.00002\n",
      "Epoch: 1500, loss: 0.00002\n",
      "Epoch: 1600, loss: 0.00002\n",
      "Epoch: 1700, loss: 0.00002\n",
      "Epoch: 1800, loss: 0.00002\n",
      "Epoch: 1900, loss: 0.00002\n"
     ]
    }
   ],
   "source": [
    "# Train the Model \n",
    "for epoch in range(epochs):\n",
    "    output = model(x_train)\n",
    "    optimizer.zero_grad()\n",
    "    loss = criterion(output , y_train)\n",
    "    loss.backward()\n",
    "    optimizer.step()\n",
    "    if epoch % 100 == 0:\n",
    "        print(\"Epoch: %d, loss: %1.5f\" % (epoch, loss.item()))"
   ]
  },
  {
   "cell_type": "code",
   "execution_count": 16,
   "metadata": {},
   "outputs": [
    {
     "data": {
      "image/png": "[encoded data removed]",
      "text/plain": [
       "<Figure size 640x480 with 1 Axes>"
      ]
     },
     "metadata": {},
     "output_type": "display_data"
    }
   ],
   "source": [
    "# Eval the Model \n",
    "model.eval()\n",
    "train_predict = model(x_data)\n",
    "\n",
    "data_predict = train_predict.data.numpy()\n",
    "data_plot = y_data.data.numpy()\n",
    "\n",
    "data_predict = scaler.inverse_transform(data_predict)\n",
    "data_plot = scaler.inverse_transform(data_plot)\n",
    "\n",
    "plt.axvline(x = train_size , c = \"r\" , linestyle = \"--\")\n",
    "plt.plot(data_plot , label = \"Actual Close\")\n",
    "plt.plot(data_predict , label = \"Predicted Close\")\n",
    "plt.legend()\n",
    "plt.show()"
   ]
  }
 ],
 "metadata": {
  "kernelspec": {
   "display_name": "langserve-test-env-pinecone",
   "language": "python",
   "name": "python3"
  },
  "language_info": {
   "codemirror_mode": {
    "name": "ipython",
    "version": 3
   },
   "file_extension": ".py",
   "mimetype": "text/x-python",
   "name": "python",
   "nbconvert_exporter": "python",
   "pygments_lexer": "ipython3",
   "version": "3.11.9"
  }
 },
 "nbformat": 4,
 "nbformat_minor": 2
}
